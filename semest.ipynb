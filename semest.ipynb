{
 "cells": [
  {
   "cell_type": "markdown",
   "metadata": {},
   "source": [
    "<h1> Bem-vindo ao Python </h1>"
   ]
  },
  {
   "cell_type": "markdown",
   "metadata": {},
   "source": [
    "## Quem sou eu?"
   ]
  },
  {
   "cell_type": "markdown",
   "metadata": {},
   "source": [
    "Não que isso seja importante, mas meu nome é Lucas Meireles. Atualmente sou mestrando em modelagem matemática e me formei em estatística na UFF."
   ]
  },
  {
   "cell_type": "markdown",
   "metadata": {},
   "source": [
    "Realmente acho que não tem importância, mas deixo aqui para se alguém tiver interesse de conversar com alguém que está fazendo mestrado. O importante é **que tudo que está aqui eu pesquisei a fundo**, então se fizermos um teste de hipotése não haveria evidências para rejeitar essas afirmações. (péssima piada)"
   ]
  },
  {
   "cell_type": "markdown",
   "metadata": {},
   "source": [
    "Algumas referênciais:\n",
    "\n",
    "* Material do [Renato Rocha](https://github.com/rsouza/FGV_Programming_Languages/tree/master/Python/Notebooks) da FGV, utilizado no curso de verão de Python.\n",
    "* Material que descreve as características da linguagem [Python](https://wiki.python.org.br/ProgramacaoOrientadaObjetoPython).\n",
    "* Melhor amigo das dúvidas é o [Stack Overflow](https://stackoverflow.com/)"
   ]
  },
  {
   "cell_type": "markdown",
   "metadata": {},
   "source": [
    " "
   ]
  },
  {
   "cell_type": "markdown",
   "metadata": {},
   "source": [
    "## Dicas de instalação:"
   ]
  },
  {
   "cell_type": "markdown",
   "metadata": {},
   "source": [
    "Primeiramente Fora Te... Desculpem, força do hábito..."
   ]
  },
  {
   "cell_type": "markdown",
   "metadata": {},
   "source": [
    "Primeiramente qual é o seu sistema operacional? \n",
    "\n",
    "###### Windows\n",
    "\n",
    "<p> Caso a sua resposta seja **Windows**, o recomendado é instalar o **\"Anaconda\"**.</p>"
   ]
  },
  {
   "cell_type": "markdown",
   "metadata": {},
   "source": [
    "Alguns dos motivos:\n",
    "    \n",
    "* Facilidade na instalação.\n",
    "* Melhora a interação no windows.\n",
    "* Vem com diversas IDEs e pacotes instalados."
   ]
  },
  {
   "cell_type": "markdown",
   "metadata": {},
   "source": [
    "Mas só para deixar claro, **não é esta Anaconda:**\n",
    "\n",
    "<img src=\"https://i.ytimg.com/vi/LDZX4ooRsWs/maxresdefault.jpg\" alt=\"Drawing\" style=\"width: 420px;\"/>\n",
    "\n",
    "E sim, **esta:**\n",
    "\n",
    "<img src=\"http://www.gurobi.com/images/logo-anaconda.png\" alt=\"Drawing\" style=\"width: 420px;\"/>"
   ]
  },
  {
   "cell_type": "markdown",
   "metadata": {},
   "source": [
    "##### Linux"
   ]
  },
  {
   "cell_type": "markdown",
   "metadata": {},
   "source": [
    "Caso sua resposta tenha sido **Linux**. Você será uma pessoa mais feliz e instalar o anaconda não faz tanta diferença.\n",
    "\n",
    "Porque, normalmente, o Python já vem instalado no linux e para acessar basta abrir a linha de comando e escrever \"python3\".\n",
    "\n",
    "Uma dica:\n",
    "\n",
    "* **Instale o pip** (sudo apt-get install python3-pip)\n",
    "\n",
    "Depois disso poderá utilizar o comando \"pip3 install nome_pacote\", para fazer instalação de pacotes e até mesmo essa IDE que estamos utilizando.\n"
   ]
  },
  {
   "cell_type": "markdown",
   "metadata": {},
   "source": [
    "##### MacOS"
   ]
  },
  {
   "cell_type": "markdown",
   "metadata": {},
   "source": [
    "Caso sua resposta tenha sido **MacOS** eu não tenho muito o que falar, por não ter utilizado esse sistema. Mas posso afirmar que ele não é tão fresco quanto o Windows e o Anaconda também não faz tanta diferença."
   ]
  },
  {
   "cell_type": "markdown",
   "metadata": {},
   "source": [
    "## Ambiente de desenvolvimento integrado (IDE)"
   ]
  },
  {
   "cell_type": "markdown",
   "metadata": {},
   "source": [
    "##### O que é uma IDE?"
   ]
  },
  {
   "cell_type": "markdown",
   "metadata": {},
   "source": [
    "É um programa de computador que reúne características e ferramentas de apoio ao desenvolvimento de software com o objetivo de agilizar este processo.\n",
    "\n",
    "Fonte [Wikipedia](https://pt.wikipedia.org/wiki/Ambiente_de_desenvolvimento_integrado)"
   ]
  },
  {
   "cell_type": "markdown",
   "metadata": {},
   "source": [
    "Provavelmente todos que já usaram R, já utilizaram uma IDE... porque o Rstudio é uma IDE."
   ]
  },
  {
   "cell_type": "markdown",
   "metadata": {},
   "source": [
    "##### Qual utilizar?"
   ]
  },
  {
   "cell_type": "markdown",
   "metadata": {},
   "source": [
    "Para usuários do R temos a **Rodeo**.\n",
    "\n",
    "<img src=\"https://www.yhat.com/img/rodeo-overview-shot.png\" alt=\"Drawing\" style=\"width: 720px;\"/>"
   ]
  },
  {
   "cell_type": "markdown",
   "metadata": {},
   "source": [
    "Uma mais padrão, já vem no Anacoda, é a **Spyder**.\n",
    "\n",
    "<img src=\"https://i.ytimg.com/vi/Jss3u2s_jKs/maxresdefault.jpg\" alt=\"Drawing\" style=\"width: 720px;\"/>"
   ]
  },
  {
   "cell_type": "markdown",
   "metadata": {},
   "source": [
    "Tem a que estamos usando, que é bem didática, **Jupyter Notebook** (Também já vem no Anaconda).\n",
    "\n",
    "<img src=\"https://www.dataquest.io/blog/images/jupyter/interface-screenshot.png\" alt=\"Drawing\" style=\"width: 720px;\"/>"
   ]
  },
  {
   "cell_type": "markdown",
   "metadata": {},
   "source": [
    "Por último, a melhor de todas, que facilita em muito o trabalho de um desenvolvedor. **Pycharm**.\n",
    "\n",
    "<img src=\"https://www.jetbrains.com/pycharm/img/screenshots/complexLook@2x.jpg\" alt=\"Drawing\" style=\"width: 720px;\"/>"
   ]
  },
  {
   "cell_type": "markdown",
   "metadata": {},
   "source": [
    "## Tipos de dados"
   ]
  },
  {
   "cell_type": "markdown",
   "metadata": {},
   "source": [
    "Provavelmente uma das partes mais chatas, mas é um importante alicerce para usar o python. Porque o tipo de um objeto determina os valores que o objeto pode receber e as operações que podem ser executadas nesse objeto."
   ]
  },
  {
   "cell_type": "markdown",
   "metadata": {},
   "source": [
    "Só que antes de falar exatamente quais são os tipos de dados, é importante saber como criar um objeto no Python. Para usuários do R, o processo é o mesmo, única diferença é que o comando **<-** não funciona, então obrigatoriamente tem que usar **=**."
   ]
  },
  {
   "cell_type": "code",
   "execution_count": null,
   "metadata": {},
   "outputs": [],
   "source": [
    "objeto = 10\n",
    "print(objeto, \"Tipo:\", type(objeto))"
   ]
  },
  {
   "cell_type": "markdown",
   "metadata": {},
   "source": [
    "Explicação do código:\n",
    "\n",
    "* **objeto = 10**, faz com que o objeto receba o valor inteiro 10.\n",
    "* **print()** é o comando utilizado para quando você quer que o python escreva alguma coisa.\n",
    "* **type()** é o comando utilizado para quando você quer saber o tipo do seu objeto.\n",
    "* **\"Tipo: \"** é um tipo de dado chamado string, eu não salvei ele em nenhum objeto, mas adicionei a palavra diretamente no print.\n"
   ]
  },
  {
   "cell_type": "markdown",
   "metadata": {},
   "source": [
    "Agora que já sabemos como salvar valores em um objeto, vamos começar a falar dos tipos."
   ]
  },
  {
   "cell_type": "markdown",
   "metadata": {},
   "source": [
    "##### Tipos númericos:"
   ]
  },
  {
   "cell_type": "code",
   "execution_count": null,
   "metadata": {},
   "outputs": [],
   "source": [
    "a,b,c = 1, 1.5, 1+3j\n",
    "print(a, type(a), \"\\n\", b, type(b), \"\\n\", c, type(c))"
   ]
  },
  {
   "cell_type": "markdown",
   "metadata": {},
   "source": [
    "Explicação do código:\n",
    "\n",
    "* **a,b,c = 1, 1.5, 1+3j**, posso adicionar diversos valores em diversos objetos na mesma linha, utilizando essa separação por vírgula.\n",
    "* **\"\\n\"**, é um comando que o print() entende,que serve para pular uma linha\n"
   ]
  },
  {
   "cell_type": "markdown",
   "metadata": {},
   "source": [
    "Temos que **int** é utilizado para números inteiro, **float** é utilizado para pontos flutuantes e **complex** é utilizado para números complexos."
   ]
  },
  {
   "cell_type": "markdown",
   "metadata": {},
   "source": [
    "Quais operações são possíveis e quais são os operados?\n",
    "\n",
    "* Para Soma usar +\n",
    "* Para Subtração usar -\n",
    "* Para Multiplocação usar *\n",
    "* Para Divisão usar /\n",
    "* Para Exponenciação usar **\n",
    "* Para Resto da divisão usar %\n",
    "* Para testar se é maior usar >\n",
    "* Para testar se é maior ou igual usar >=\n",
    "* Para testar se é menor usar <\n",
    "* Para testar se é menor ou igual usar <=\n",
    "* Para testar se é igual usar ==\n",
    "* Para testar se é diferente usar !="
   ]
  },
  {
   "cell_type": "markdown",
   "metadata": {},
   "source": [
    "Exemplos:"
   ]
  },
  {
   "cell_type": "code",
   "execution_count": null,
   "metadata": {},
   "outputs": [],
   "source": [
    "a + b - 3*c"
   ]
  },
  {
   "cell_type": "code",
   "execution_count": null,
   "metadata": {},
   "outputs": [],
   "source": [
    "(a + b) / b"
   ]
  },
  {
   "cell_type": "code",
   "execution_count": null,
   "metadata": {},
   "outputs": [],
   "source": [
    "2 ** 4"
   ]
  },
  {
   "cell_type": "code",
   "execution_count": null,
   "metadata": {},
   "outputs": [],
   "source": [
    "3 % 2"
   ]
  },
  {
   "cell_type": "code",
   "execution_count": null,
   "metadata": {},
   "outputs": [],
   "source": [
    "a < b"
   ]
  },
  {
   "cell_type": "code",
   "execution_count": null,
   "metadata": {},
   "outputs": [],
   "source": [
    "a == c"
   ]
  },
  {
   "cell_type": "markdown",
   "metadata": {},
   "source": [
    "**Exercício** - Valendo um alcaçuz\n",
    "\n",
    "Como calcular a raíz cúbica de um oitavo, utilizando somente essas operações?"
   ]
  },
  {
   "cell_type": "code",
   "execution_count": null,
   "metadata": {
    "collapsed": true
   },
   "outputs": [],
   "source": []
  },
  {
   "cell_type": "markdown",
   "metadata": {},
   "source": [
    "##### Tipo String:"
   ]
  },
  {
   "cell_type": "code",
   "execution_count": null,
   "metadata": {},
   "outputs": [],
   "source": [
    "a, b = \"Sou uma string feliz\", 'Sou uma string triste'\n",
    "print(a, type(a), \"\\n\", b, type(b))"
   ]
  },
  {
   "cell_type": "markdown",
   "metadata": {},
   "source": [
    "Pode ser usado tanto **\"** quanto **'**, para criar uma string. Caso queira que sua string contenha uma aspa, basta usar **\\**, exemplo:"
   ]
  },
  {
   "cell_type": "code",
   "execution_count": null,
   "metadata": {},
   "outputs": [],
   "source": [
    "c = \"(>\\'-\\')>---------FRESHMEATTTT\"\n",
    "print(c, type(c))"
   ]
  },
  {
   "cell_type": "markdown",
   "metadata": {},
   "source": [
    "Operações:"
   ]
  },
  {
   "cell_type": "code",
   "execution_count": null,
   "metadata": {},
   "outputs": [],
   "source": [
    "print(a + ' ' + c + \" \" + b)"
   ]
  },
  {
   "cell_type": "markdown",
   "metadata": {},
   "source": [
    "Explicando o código:\n",
    "\n",
    "* A soma no caso de uma string é a mesma coisa que concatenar.\n",
    "* ' ' ou \"  \" é para adicionar uma string, que é um espaço, para as concatenação das strings ficarem separadas."
   ]
  },
  {
   "cell_type": "code",
   "execution_count": null,
   "metadata": {},
   "outputs": [],
   "source": [
    "a.count('e') #Conta o número de vezes que a string que está dentro do count aparece"
   ]
  },
  {
   "cell_type": "code",
   "execution_count": null,
   "metadata": {},
   "outputs": [],
   "source": [
    "a = a.replace('feliz', 'triste') # Substitui uma string por outra\n",
    "print(a)"
   ]
  },
  {
   "cell_type": "code",
   "execution_count": null,
   "metadata": {},
   "outputs": [],
   "source": [
    "print(a.split()) #Split separa a string, o default é separar por espaço mas você pode escolher o que quiser."
   ]
  },
  {
   "cell_type": "code",
   "execution_count": null,
   "metadata": {},
   "outputs": [],
   "source": [
    "#Deixe o cursor depos do ponto e aperte tab, irá aparecer todas as funções nativas da string.\n",
    "a."
   ]
  },
  {
   "cell_type": "markdown",
   "metadata": {},
   "source": [
    "Como escolher letras ou parte da string utilizando a posição das letras?\n",
    "\n",
    "Um aviso importante para as pessoas que vem do R, é que posição no Python começa do 0, enquanto no R começa do 1. Vamos ver um exemplo:"
   ]
  },
  {
   "cell_type": "code",
   "execution_count": null,
   "metadata": {},
   "outputs": [],
   "source": [
    "print(c)\n",
    "print(\"Primeira letra:\", c[0], \" última letra: \", c[len(c) - 1])"
   ]
  },
  {
   "cell_type": "markdown",
   "metadata": {},
   "source": [
    "Explicando o código:\n",
    "\n",
    "* **c[0]**, com [] consigo pedir para o python me retorna aquela a informação que está naquela posição. No caso, o 0 serve para retornar a primeira letra.\n",
    "* **len(c)**, len é o comando para retornar o tamanho do meu objeto.\n",
    "* **c[len(c) - 1]**, Porque utilizar len(c) - 1 para pegar a última letra? Porque como a posição começa a contar do 0, a última informação pode ser encontrada reduzindo um do tamanho do objeto."
   ]
  },
  {
   "cell_type": "code",
   "execution_count": null,
   "metadata": {},
   "outputs": [],
   "source": [
    "print(\"Primeira letra:\", c[0], \" última letra: \", c[-1])"
   ]
  },
  {
   "cell_type": "markdown",
   "metadata": {},
   "source": [
    "Explicando o código:\n",
    "\n",
    "* **c[-1]** faz exatamente a mesma coisa de **c[len(c) - 1]**, ou seja, utilizando um valor inteiro negativo é possível começar a escolher as letras pela última."
   ]
  },
  {
   "cell_type": "code",
   "execution_count": null,
   "metadata": {},
   "outputs": [],
   "source": [
    "print(\"Letras sequênciais:\", c[0:7], \" outras letras sequênciais:\", c[16:], \" outras letras sequênciais:\", c[:7])"
   ]
  },
  {
   "cell_type": "markdown",
   "metadata": {},
   "source": [
    "Explicando o código:\n",
    "\n",
    "* **c[0:7]**, utilizando [0:7] o python irá buscar as letras da posição 0, até a letra da posição 6. **Ignorando a letra da posição 7, por padrão ele não inclui o último valor.**\n",
    "* **c[16:]**, como não estipulei último valor, ele vai pegar da posição 16 até a último posição.\n",
    "* **c[:7]**, como não estipulei o primeiro valor, ele vai da posição 0 até a letra da posição 6, não incluindo a letra da posição 7."
   ]
  },
  {
   "cell_type": "markdown",
   "metadata": {},
   "source": [
    "**Exercício** - Valendo um alcaçuz\n",
    "\n",
    "Como fazer para remover o @ e o & da seguinte string \"Hoj&@@é dia d& s&m&st\", sendo que ela tem que fazer sentido."
   ]
  },
  {
   "cell_type": "code",
   "execution_count": null,
   "metadata": {
    "collapsed": true
   },
   "outputs": [],
   "source": [
    "string = \"Hoj&@@é dia d& s&m&st\""
   ]
  },
  {
   "cell_type": "code",
   "execution_count": null,
   "metadata": {
    "collapsed": true
   },
   "outputs": [],
   "source": []
  },
  {
   "cell_type": "markdown",
   "metadata": {},
   "source": [
    "##### Tipo Booleano"
   ]
  },
  {
   "cell_type": "markdown",
   "metadata": {},
   "source": [
    "Já vimos esse tipo, na parte de tipos númericos."
   ]
  },
  {
   "cell_type": "code",
   "execution_count": null,
   "metadata": {},
   "outputs": [],
   "source": [
    "print(2 > 7, type(2 > 7), \"\\n\", 2 < 7, type(2 < 7))"
   ]
  },
  {
   "cell_type": "markdown",
   "metadata": {},
   "source": [
    "##### Tipo Lista:"
   ]
  },
  {
   "cell_type": "markdown",
   "metadata": {},
   "source": [
    "Uma lista é um conjunto ordenado de valores, onde cada valor é identificado por um índice. Os valores que compõem uma lista são chamados elementos. Listas são similares a strings, que são conjuntos ordenados de caracteres, com a diferença que os elementos de uma lista podem possuir qualquer tipo.\n",
    "\n",
    "Fonte [Aprenda Python](http://www3.ifrn.edu.br/~jurandy/fdp/doc/aprenda-python/capitulo_08.html)"
   ]
  },
  {
   "cell_type": "markdown",
   "metadata": {},
   "source": [
    "Criar uma lista é fácil, bastar criar usando [ ], como podemos ver no exemplo abaixo"
   ]
  },
  {
   "cell_type": "code",
   "execution_count": null,
   "metadata": {},
   "outputs": [],
   "source": [
    "a = [1, 2, 3.5, \"teste\", [\"outra\", \"lista\", True]]\n",
    "print(a, type(a))"
   ]
  },
  {
   "cell_type": "markdown",
   "metadata": {},
   "source": [
    "Acessar as informações da uma lista, é igual como vimos em uma string. Mas como fazemos para acessar a informação da lista dentro da listra?"
   ]
  },
  {
   "cell_type": "code",
   "execution_count": null,
   "metadata": {},
   "outputs": [],
   "source": [
    "print(\"Para acessar a lista: \", \"a[4]\", \" que retorna \", a[4])\n",
    "print(\"Para acessar uma informação da lista dentro da lista: \", \"a[4][0]\", \" que retorna \", a[4][0])\n",
    "print(\"Se eu ainda quiser acessar uma letra, basta seguir a lógica, como por exemplo: \", \"a[4][0][3]\", \" que retorna \", a[4][0][3])"
   ]
  },
  {
   "cell_type": "markdown",
   "metadata": {},
   "source": [
    "Adicionando novo elemento na lista"
   ]
  },
  {
   "cell_type": "code",
   "execution_count": null,
   "metadata": {},
   "outputs": [],
   "source": [
    "a.append(\"Novo valor\")\n",
    "print(a)"
   ]
  },
  {
   "cell_type": "markdown",
   "metadata": {},
   "source": [
    "Vale notar, que não foi preciso utilizar \"a = a.append(\"Novo valor\")\", para que o novo valor fiquei salvo no objeto. Isso é uma propriedade da lista."
   ]
  },
  {
   "cell_type": "markdown",
   "metadata": {},
   "source": [
    "Também é possível criar uma lista da seguitne forma:"
   ]
  },
  {
   "cell_type": "code",
   "execution_count": null,
   "metadata": {},
   "outputs": [],
   "source": [
    "b = list(\"string feliz\")\n",
    "print(b)"
   ]
  },
  {
   "cell_type": "markdown",
   "metadata": {},
   "source": [
    "**Exercício** - Valendo um alcaçus\n",
    "\n",
    "Descubram a diferença entre o append e o extend."
   ]
  },
  {
   "cell_type": "code",
   "execution_count": null,
   "metadata": {
    "collapsed": true
   },
   "outputs": [],
   "source": []
  },
  {
   "cell_type": "markdown",
   "metadata": {},
   "source": [
    "##### Tipo conjunto:"
   ]
  },
  {
   "cell_type": "markdown",
   "metadata": {},
   "source": [
    "São sequências não ordenadas de elementos únicos. Para criar um conjunto basta utilizar {}."
   ]
  },
  {
   "cell_type": "code",
   "execution_count": null,
   "metadata": {},
   "outputs": [],
   "source": [
    "a = {2,1,1,2,\"s\",3,4,5,6,6,\"s\",\"s\",4,1,23,4,56,3,1,3}\n",
    "print(a)"
   ]
  },
  {
   "cell_type": "markdown",
   "metadata": {},
   "source": [
    "Também é possível criar um set da seguinte forma:"
   ]
  },
  {
   "cell_type": "code",
   "execution_count": null,
   "metadata": {},
   "outputs": [],
   "source": [
    "b = set(\"ssssslyytherin\")\n",
    "print(b)"
   ]
  },
  {
   "cell_type": "markdown",
   "metadata": {},
   "source": [
    "##### Tipo dicionário:"
   ]
  },
  {
   "cell_type": "markdown",
   "metadata": {},
   "source": [
    "Dicionários sao similiares a outros tipos compostos exceto por eles poderem user qualquer tipo imutavel de dados como indice. Como exemplo, nos criaremos um dicionário para traduzir palavras em Inglês para Espanhol. Para esse dicionário, os indices serão strings.\n",
    "\n",
    "Fonte [Aprenda Python](http://www3.ifrn.edu.br/~jurandy/fdp/doc/aprenda-python/capitulo_08.html)"
   ]
  },
  {
   "cell_type": "markdown",
   "metadata": {},
   "source": [
    "Para criar um dicionário também é utulizado { }, mas a estrutura interna é diferente. Vamos ter uma informação que é a Key e outra informação que é o values, separadas por dois pontos. Esse será nosso primeiro par de Key e values, depois utilizamos uma vírgula para criar o segundo par e assim por diante. Exemplo:"
   ]
  },
  {
   "cell_type": "code",
   "execution_count": null,
   "metadata": {},
   "outputs": [],
   "source": [
    "dic = {\"Livrarias\": [\"Saraiva\", \"Travessa\", \"FNAC\", \"Amazon\"], \"Livro\": \"Game of thrones\", \"Preço\": [50, 25, 30, 40], 1: 32, 2: [\"só\", \"testando\"]}\n",
    "print(dic, type(dic))"
   ]
  },
  {
   "cell_type": "markdown",
   "metadata": {},
   "source": [
    "Mas qual é a utilidade?"
   ]
  },
  {
   "cell_type": "code",
   "execution_count": null,
   "metadata": {},
   "outputs": [],
   "source": [
    "print(dic[\"Livrarias\"], dic[\"Preço\"])"
   ]
  },
  {
   "cell_type": "markdown",
   "metadata": {},
   "source": [
    "Podemos pegar só as chaves:"
   ]
  },
  {
   "cell_type": "code",
   "execution_count": null,
   "metadata": {},
   "outputs": [],
   "source": [
    "dic.keys()"
   ]
  },
  {
   "cell_type": "markdown",
   "metadata": {},
   "source": [
    "Ou só os valores:"
   ]
  },
  {
   "cell_type": "code",
   "execution_count": null,
   "metadata": {},
   "outputs": [],
   "source": [
    "dic.values()"
   ]
  },
  {
   "cell_type": "markdown",
   "metadata": {},
   "source": [
    "**Exercício** - Valendo um alcaçuz\n",
    "\n",
    "\n",
    "Como adicionar uma par de key e value novo no dicionário?\n",
    "\n",
    "**Dica**: Procurem apertando tab em um objeto que seja um dicionário."
   ]
  },
  {
   "cell_type": "code",
   "execution_count": null,
   "metadata": {
    "collapsed": true
   },
   "outputs": [],
   "source": []
  },
  {
   "cell_type": "markdown",
   "metadata": {},
   "source": [
    "##### Tipo Tupla:"
   ]
  },
  {
   "cell_type": "markdown",
   "metadata": {},
   "source": [
    "É similar a uma lista exceto por ele ser imutável. Sintaticamente, uma tupla é uma lista de valores separados por vírgulas:\n",
    "\n",
    "Fonte [Aprenda Python](http://www3.ifrn.edu.br/~jurandy/fdp/doc/aprenda-python/capitulo_08.html)"
   ]
  },
  {
   "cell_type": "code",
   "execution_count": null,
   "metadata": {},
   "outputs": [],
   "source": [
    "a = (2,3)\n",
    "print(a, type(a))"
   ]
  },
  {
   "cell_type": "code",
   "execution_count": null,
   "metadata": {},
   "outputs": [],
   "source": [
    "a[0] = 1"
   ]
  },
  {
   "cell_type": "markdown",
   "metadata": {},
   "source": [
    "## Condicionais e loops"
   ]
  },
  {
   "cell_type": "markdown",
   "metadata": {},
   "source": [
    "## Condicionais - if, elif e else"
   ]
  },
  {
   "cell_type": "markdown",
   "metadata": {},
   "source": [
    "Para usuários do R, as condicionais seguem a mesma ideia. O que muda é a sintaxe."
   ]
  },
  {
   "cell_type": "code",
   "execution_count": null,
   "metadata": {
    "collapsed": true
   },
   "outputs": [],
   "source": [
    "aux = 5"
   ]
  },
  {
   "cell_type": "code",
   "execution_count": null,
   "metadata": {},
   "outputs": [],
   "source": [
    "if aux <= 5:\n",
    "    print(\"É menor ou igual a 5\")\n",
    "elif aux <= 10:\n",
    "    print(\"Está entre 5 e 10\")\n",
    "else:\n",
    "    print(\"Maior que 10\")"
   ]
  },
  {
   "cell_type": "markdown",
   "metadata": {},
   "source": [
    "Explicando o código:\n",
    "\n",
    "* **if aux <= 5**, é uma forma de representar uma pergunta. Estou perguntando para o Python \"O valor de aux é menor ou igual a 5?, se isso for verdade escreve a mensagem que eu escrevi no print\". \n",
    "* **elif aux <= 10**, essa pergunta só será feita ao python, se a primeira falhar. Logo, eu sei que aux não é menor do que 5, mas pergunto para o python se aux é menor do que 10.\n",
    "* **else**, esse é o nosso \"caso contrário\". Quer dizer que se nenhuma das anteriores for verdadeira, essa será a que irá funcionar."
   ]
  },
  {
   "cell_type": "markdown",
   "metadata": {},
   "source": [
    "##### Outros operadores - and, or, in e not:"
   ]
  },
  {
   "cell_type": "code",
   "execution_count": null,
   "metadata": {
    "collapsed": true
   },
   "outputs": [],
   "source": [
    "aux = 4"
   ]
  },
  {
   "cell_type": "code",
   "execution_count": null,
   "metadata": {},
   "outputs": [],
   "source": [
    "if aux <= 5 and aux >= 1:\n",
    "    print(\"3 |-| 5\")"
   ]
  },
  {
   "cell_type": "code",
   "execution_count": null,
   "metadata": {},
   "outputs": [],
   "source": [
    "if aux == 4 or aux == 1:\n",
    "    print(\"Aux é 4 ou 1\")"
   ]
  },
  {
   "cell_type": "code",
   "execution_count": null,
   "metadata": {},
   "outputs": [],
   "source": [
    "if str(aux) in \"O número é 4\":\n",
    "    print(\"Aux é 4\")\n",
    "else:\n",
    "    print(\"Aux naõ é 4\")"
   ]
  },
  {
   "cell_type": "code",
   "execution_count": null,
   "metadata": {},
   "outputs": [],
   "source": [
    "if str(aux) not in \"O número é 4\":\n",
    "    print(\"Aux não é 4\")\n",
    "else:\n",
    "    print(\"Aux é 4\")"
   ]
  },
  {
   "cell_type": "markdown",
   "metadata": {},
   "source": [
    "Explicando o código:\n",
    "\n",
    "* **if aux <= 5 and aux >= 1**, com o \"and\" a pergunta muda um pouco. Eu passo a perguntar se aux é menor que 5 e ao mesmo tempo ele é maior que 1.\n",
    "* **if aux == 4 or aux == 1**, com o \"or\" a pergunta passa a ser \"Se aux é 4 ou se aux é 1\".\n",
    "* **str(aux)**, estou transformando um int em uma string.\n",
    "* **if str(aux) in \"O número é 4\"**, com o \"in\" eu pergunto se a minha informação está dentro da minha string.\n",
    "* **if str(aux) not in \"O número é 4\"**, com o \"not in\" eu pergunto se a minha informação não está dentro da minha string."
   ]
  },
  {
   "cell_type": "markdown",
   "metadata": {},
   "source": [
    "**Exercício** - Valendo uma palha italiana\n",
    "\n",
    "Teste e dê um print, se um valor é par ou ímpar. Caso seja par, teste se é é maior que 40 ou menor que 20. Caso seja ímpar, teste se é divisível por 5."
   ]
  },
  {
   "cell_type": "code",
   "execution_count": null,
   "metadata": {
    "collapsed": true
   },
   "outputs": [],
   "source": []
  },
  {
   "cell_type": "markdown",
   "metadata": {},
   "source": [
    "## Loops - for e while"
   ]
  },
  {
   "cell_type": "markdown",
   "metadata": {},
   "source": [
    "Antes de falar sobre os métodos de loop, vale a pena falar de uma função do python que podemos utilizar para auxiliar nos loopings, o **range**.\n",
    "range é uma função que gera uma sequência de números"
   ]
  },
  {
   "cell_type": "code",
   "execution_count": null,
   "metadata": {},
   "outputs": [],
   "source": [
    "a = range(0,10)\n",
    "print(a, \"todos valores do range(0, 10): \", list(a), \"acessando algum valor individual:\", a[6])"
   ]
  },
  {
   "cell_type": "markdown",
   "metadata": {},
   "source": [
    "Essa função é útil porque facilita a criação de sequências, ainda podemos escolher um outro parâmetro para que ela dê \"saltos na sequência."
   ]
  },
  {
   "cell_type": "code",
   "execution_count": null,
   "metadata": {},
   "outputs": [],
   "source": [
    "b = range(0, 10, 3)\n",
    "print(list(b))"
   ]
  },
  {
   "cell_type": "markdown",
   "metadata": {},
   "source": [
    "##### For"
   ]
  },
  {
   "cell_type": "markdown",
   "metadata": {},
   "source": [
    "Podemos escolher um determinador número de iterações, para que ele execute instruções esse número de vezes."
   ]
  },
  {
   "cell_type": "code",
   "execution_count": null,
   "metadata": {},
   "outputs": [],
   "source": [
    "for i in range(0,10):\n",
    "    print(i)"
   ]
  },
  {
   "cell_type": "code",
   "execution_count": null,
   "metadata": {},
   "outputs": [],
   "source": [
    "for letra in \"sou uma string\":\n",
    "    print(letra)"
   ]
  },
  {
   "cell_type": "code",
   "execution_count": null,
   "metadata": {},
   "outputs": [],
   "source": [
    "for parte_lista in ['teste', 'do', 'for']:\n",
    "    print(parte_lista)"
   ]
  },
  {
   "cell_type": "code",
   "execution_count": null,
   "metadata": {},
   "outputs": [],
   "source": [
    "for x,y in [['x1', 'y1'], ['x2', 'y2'], ['x3', 'y3']]:\n",
    "    print(\"x:\", x, \" y: \", y)"
   ]
  },
  {
   "cell_type": "markdown",
   "metadata": {},
   "source": [
    "##### While"
   ]
  },
  {
   "cell_type": "markdown",
   "metadata": {},
   "source": [
    "Diferente do for, nós escolhemos um críterio de parada, não necessariamente sabemos quantas iterações serão feitas."
   ]
  },
  {
   "cell_type": "code",
   "execution_count": null,
   "metadata": {},
   "outputs": [],
   "source": [
    "x = 2\n",
    "while x < 10:\n",
    "    print(x)\n",
    "    x += 1"
   ]
  },
  {
   "cell_type": "markdown",
   "metadata": {},
   "source": [
    "Explicando o código:\n",
    "\n",
    "* **x += 1** é o equivalente a **x = x + 1**. Cada iteração o x vai ter 1 acrecido ao seu valor anterior"
   ]
  },
  {
   "cell_type": "markdown",
   "metadata": {},
   "source": [
    "###### Comandos para o loop - break, pass e continue"
   ]
  },
  {
   "cell_type": "code",
   "execution_count": null,
   "metadata": {},
   "outputs": [],
   "source": [
    "for i in range(0,10):\n",
    "    \n",
    "    if i == 5:\n",
    "        break\n",
    "    \n",
    "    print(i)"
   ]
  },
  {
   "cell_type": "code",
   "execution_count": null,
   "metadata": {},
   "outputs": [],
   "source": [
    "for i in range(0,10):\n",
    "    \n",
    "    if i % 2 != 0:\n",
    "        continue\n",
    "    \n",
    "    print(i)\n",
    "    "
   ]
  },
  {
   "cell_type": "code",
   "execution_count": null,
   "metadata": {},
   "outputs": [],
   "source": [
    "for i in range(0,10):\n",
    "    \n",
    "    if i % 2 != 0:\n",
    "        pass\n",
    "        print('Rolou um pass')\n",
    "    \n",
    "    print(i)"
   ]
  },
  {
   "cell_type": "markdown",
   "metadata": {},
   "source": [
    "**Exercício** - Valendo uma palha\n",
    "\n",
    "Crie um loop que faça a sequência de fibonacci até a posição 20 e print todos valores.\n",
    "\n",
    "**Dica**: Crie dois objetos fora do looping, que contenham os dois primeiros valores da sequência e depois façam o for."
   ]
  },
  {
   "cell_type": "code",
   "execution_count": null,
   "metadata": {
    "collapsed": true
   },
   "outputs": [],
   "source": []
  },
  {
   "cell_type": "markdown",
   "metadata": {},
   "source": [
    "## Comprehension"
   ]
  },
  {
   "cell_type": "markdown",
   "metadata": {},
   "source": [
    "Permite a criação de listas de maneira concisa e clara."
   ]
  },
  {
   "cell_type": "markdown",
   "metadata": {},
   "source": [
    "##### List Comprehension"
   ]
  },
  {
   "cell_type": "code",
   "execution_count": null,
   "metadata": {},
   "outputs": [],
   "source": [
    "a = [i for i in range(0,100)]\n",
    "print(a)"
   ]
  },
  {
   "cell_type": "code",
   "execution_count": null,
   "metadata": {},
   "outputs": [],
   "source": [
    "b = [i for i in range(0,100) if i % 2 == 0]\n",
    "print(b)"
   ]
  },
  {
   "cell_type": "markdown",
   "metadata": {},
   "source": [
    "Explicando o código:\n",
    "\n",
    "Um list comprehension tem a seguinte estrutura [\"valo que será salvo na lista\" for \"elemento da sequência\" in \"sequência\" \"pode existir um if aqui\"]"
   ]
  },
  {
   "cell_type": "markdown",
   "metadata": {},
   "source": [
    "###### dic Comprehension"
   ]
  },
  {
   "cell_type": "code",
   "execution_count": null,
   "metadata": {},
   "outputs": [],
   "source": [
    "a = {i:(i-2) for i in range(0,100)}\n",
    "print(a)"
   ]
  },
  {
   "cell_type": "markdown",
   "metadata": {},
   "source": [
    "###### Set comprehension"
   ]
  },
  {
   "cell_type": "code",
   "execution_count": null,
   "metadata": {},
   "outputs": [],
   "source": [
    "a = {i for i in [1,1,1,1,1,2,2,2,2,2,3,3,3,3,3,2,2,2,1,1,1]}\n",
    "print(a)"
   ]
  },
  {
   "cell_type": "markdown",
   "metadata": {},
   "source": [
    "Uma das vantagens do comprehension é que ele é mais rápido do que utilizar um for padrão para a mesma tarefa."
   ]
  },
  {
   "cell_type": "markdown",
   "metadata": {},
   "source": [
    "## Funções"
   ]
  },
  {
   "cell_type": "markdown",
   "metadata": {},
   "source": [
    "Criar funções no python é diferente do que criar funções no R, mas mesmo assim ainda é uma tarefa tranquila, como podemos ver no seguinte exemplo:"
   ]
  },
  {
   "cell_type": "code",
   "execution_count": null,
   "metadata": {
    "collapsed": true
   },
   "outputs": [],
   "source": [
    "def minha_primeira_função(x):\n",
    "    return x*x"
   ]
  },
  {
   "cell_type": "code",
   "execution_count": null,
   "metadata": {},
   "outputs": [],
   "source": [
    "a = minha_primeira_função(3)\n",
    "print(a)"
   ]
  },
  {
   "cell_type": "code",
   "execution_count": null,
   "metadata": {
    "collapsed": true
   },
   "outputs": [],
   "source": [
    "def remove_caracter(string, caracter):\n",
    "    \n",
    "    if type(string) != str:\n",
    "        print(\"Por favor, escolha uma string\")\n",
    "        string = input()\n",
    "        remove_caracter(string, caracter)\n",
    "    \n",
    "    aux = [i for i in string if i != caracter]\n",
    "    \n",
    "    return \"\".join(aux)"
   ]
  },
  {
   "cell_type": "code",
   "execution_count": null,
   "metadata": {},
   "outputs": [],
   "source": [
    "remove_caracter(\"test@@@ando\", \"@\")"
   ]
  },
  {
   "cell_type": "code",
   "execution_count": null,
   "metadata": {},
   "outputs": [],
   "source": [
    "remove_caracter(['lista'], \"@\")"
   ]
  },
  {
   "cell_type": "markdown",
   "metadata": {},
   "source": [
    "Explicando o código:\n",
    "    \n",
    "* **string = input()**, input() é um comando para que uma pessoa possa adicionar uma informação em um objeto em tempo real.\n",
    "* **remove_caracter(string, caracter)**, chamo a função novamente para que se na hora do input a pessoa botar outra coisa que não seja string, ele verificar de novo.\n",
    "* **\"\".join(aux)**, .join é uma operação de uma string. Por isso eu crio uma string vazia \"\" e a partir dela eu junto a minha lista."
   ]
  },
  {
   "cell_type": "markdown",
   "metadata": {},
   "source": [
    "**Exercício** - Valendo uma palha\n",
    "\n",
    "Corriga o código a baixo, o objetivo dele é criar uma função que passa uma string para uma dicionário, que as chaves serão as palavras e os values serão as posições de cada palavra."
   ]
  },
  {
   "cell_type": "code",
   "execution_count": null,
   "metadata": {
    "collapsed": true
   },
   "outputs": [],
   "source": [
    "def index_invertido(string):\n",
    "    \n",
    "    string = string.replace(\",\", \"\")\n",
    "    string = string.replace(\".\", \"\")\n",
    "    \n",
    "    dic = ()\n",
    "    string_split = string.split()\n",
    "    palavras_unicas = set{string_split}\n",
    "    \n",
    "    for palavra in palavras_unicas:\n",
    "        aux = [i for i in range(0, len(string_split) - 1) if palavra == i]\n",
    "        \n",
    "        dic.update({palavra: aux})\n",
    "    \n",
    "    return dic"
   ]
  },
  {
   "cell_type": "code",
   "execution_count": null,
   "metadata": {
    "collapsed": true
   },
   "outputs": [],
   "source": [
    "teste = \"Fritigerno ou Fridigerno (em latim: Fritigernus) foi um líder gótico tervíngio do século IV, ativo na fronteira romana do Danúbio e nas províncias dos Bálcãs durante o reinado dos imperadores Valente (r. 364–378) e Teodósio (r. 378–395). Rival do juiz tervíngio Atanarico, opôs-se à perseguição aos cristãos realizadas por ele e confrontou-o numa guerra civil. A cronologia dessa guerra civil é desconhecida, mas se sabe que Fritigerno foi auxiliado pelo imperador Valente e o exército coligado foi capaz de derrotar Atanarico\""
   ]
  },
  {
   "cell_type": "code",
   "execution_count": null,
   "metadata": {},
   "outputs": [],
   "source": [
    "index_invertido(teste)"
   ]
  },
  {
   "cell_type": "markdown",
   "metadata": {},
   "source": [
    "## Importar pacotes"
   ]
  },
  {
   "cell_type": "markdown",
   "metadata": {},
   "source": [
    "Importar pacotes no Python é muito fácil, só que existe uma boa prática para acabar não causando problemas no seu trabalho. Vamos demosntrar utilizando o pacote [numpy](http://www.numpy.org/). Esse pacote é muito utilziado, principalmente porque ele trás muitas funções para computação ciêntifica."
   ]
  },
  {
   "cell_type": "code",
   "execution_count": null,
   "metadata": {
    "collapsed": true
   },
   "outputs": [],
   "source": [
    "#Importanto de forma padrão\n",
    "\n",
    "import numpy"
   ]
  },
  {
   "cell_type": "code",
   "execution_count": null,
   "metadata": {},
   "outputs": [],
   "source": [
    "print(\"Média:\", numpy.mean([2,3,4,5,1,3,4]))\n",
    "print(\"Números randomicos de uma normal padrão:\", numpy.round(numpy.random.normal(0, 1, 5), 2))"
   ]
  },
  {
   "cell_type": "markdown",
   "metadata": {},
   "source": [
    "Explicando o código:\n",
    "\n",
    "* **numpy.mean()**, chamando o módulo numpy, é possível acessar qualquer uma das suas funções, só é necessário botar um ponto.\n",
    "* **numpy.random.normal(0, 1, 5)**, gera valores 5 aleatórios de uma normal com média 0 e desvio padrão 1.\n",
    "* **numpy.round()**, arredonda os valores para a quantidade de casas decimais desejadas. "
   ]
  },
  {
   "cell_type": "markdown",
   "metadata": {},
   "source": [
    "Agora, importando numpy de uma forma que facilite nossa vida para não ser necessário escrever **numpy** toda hora."
   ]
  },
  {
   "cell_type": "code",
   "execution_count": null,
   "metadata": {
    "collapsed": true
   },
   "outputs": [],
   "source": [
    "import numpy as np"
   ]
  },
  {
   "cell_type": "code",
   "execution_count": null,
   "metadata": {},
   "outputs": [],
   "source": [
    "print(\"Média:\", np.mean([2,3,4,5,1,3,4]))\n",
    "print(\"Números randomicos de uma normal padrão:\", np.round(np.random.normal(0, 1, 5), 2))"
   ]
  },
  {
   "cell_type": "markdown",
   "metadata": {},
   "source": [
    "Podemos importar também, de uma forma não tão recomendada."
   ]
  },
  {
   "cell_type": "code",
   "execution_count": null,
   "metadata": {
    "collapsed": true
   },
   "outputs": [],
   "source": [
    "from numpy import *"
   ]
  },
  {
   "cell_type": "code",
   "execution_count": null,
   "metadata": {},
   "outputs": [],
   "source": [
    "print(\"Média:\", mean([2,3,4,5,1,3,4]))\n",
    "print(\"Números randomicos de uma normal padrão:\", random.normal(0, 1, 5), 2)"
   ]
  },
  {
   "cell_type": "markdown",
   "metadata": {},
   "source": [
    "Por que não é recomendado?\n",
    "\n",
    "Porque o np.round, já existe como round. Nesse caso, não é um problema porque eles fazem a mesma coisa. Mas se fossem funções diferentes poderia dar dor de cabeça. Nunca sabemos todas funções de um pacote"
   ]
  },
  {
   "cell_type": "markdown",
   "metadata": {},
   "source": [
    "Mas é possível transformar esse método não recomendado em nosso amigo. Podemos escolher exatamente a função que queremos."
   ]
  },
  {
   "cell_type": "code",
   "execution_count": null,
   "metadata": {
    "collapsed": true
   },
   "outputs": [],
   "source": [
    "from numpy import mean"
   ]
  },
  {
   "cell_type": "code",
   "execution_count": null,
   "metadata": {},
   "outputs": [],
   "source": [
    "print(mean([2,3,4]))"
   ]
  },
  {
   "cell_type": "code",
   "execution_count": null,
   "metadata": {},
   "outputs": [],
   "source": [
    "print(\"Números randomicos de uma normal padrão:\", random.normal(0, 1, 5), 2)"
   ]
  },
  {
   "cell_type": "markdown",
   "metadata": {},
   "source": [
    "## Numpy, Pandas e Matplotlib"
   ]
  },
  {
   "cell_type": "code",
   "execution_count": null,
   "metadata": {
    "collapsed": true
   },
   "outputs": [],
   "source": [
    "import numpy as np\n",
    "import pandas as pd\n",
    "import matplotlib.pyplot as plt\n",
    "\n",
    "%matplotlib inline"
   ]
  },
  {
   "cell_type": "markdown",
   "metadata": {},
   "source": [
    "### Numpy    "
   ]
  },
  {
   "cell_type": "markdown",
   "metadata": {},
   "source": [
    "Com o numpy podemos criar vetores:"
   ]
  },
  {
   "cell_type": "code",
   "execution_count": null,
   "metadata": {},
   "outputs": [],
   "source": [
    "jony_array = np.array([3, 2, 3])\n",
    "print(jony_array, type(jony_array))"
   ]
  },
  {
   "cell_type": "markdown",
   "metadata": {},
   "source": [
    "Podemos criar matrizes:"
   ]
  },
  {
   "cell_type": "code",
   "execution_count": null,
   "metadata": {},
   "outputs": [],
   "source": [
    "matrix = np.matrix([[1,1,1],[2,1,2],[3,1,4]])\n",
    "print(matrix)"
   ]
  },
  {
   "cell_type": "markdown",
   "metadata": {},
   "source": [
    "Com isso Podemos fazer operações matriciais:"
   ]
  },
  {
   "cell_type": "code",
   "execution_count": null,
   "metadata": {},
   "outputs": [],
   "source": [
    "jony_array * matrix "
   ]
  },
  {
   "cell_type": "code",
   "execution_count": null,
   "metadata": {},
   "outputs": [],
   "source": [
    "matrix * matrix"
   ]
  },
  {
   "cell_type": "code",
   "execution_count": null,
   "metadata": {},
   "outputs": [],
   "source": [
    "np.matmul(matrix, matrix)"
   ]
  },
  {
   "cell_type": "code",
   "execution_count": null,
   "metadata": {},
   "outputs": [],
   "source": [
    "np.invert(matrix)"
   ]
  },
  {
   "cell_type": "markdown",
   "metadata": {},
   "source": [
    "Podemos ordenar um objeto:"
   ]
  },
  {
   "cell_type": "code",
   "execution_count": null,
   "metadata": {},
   "outputs": [],
   "source": [
    "np.sort(jony_array)"
   ]
  },
  {
   "cell_type": "markdown",
   "metadata": {},
   "source": [
    "### Pandas"
   ]
  },
  {
   "cell_type": "markdown",
   "metadata": {},
   "source": [
    "Pandas é o pacote do Python, que se aproxima do R. Com ele podemos ler com mais facilidade as bases de dados e trabalhar com elas."
   ]
  },
  {
   "cell_type": "markdown",
   "metadata": {},
   "source": [
    "Antes de mostrar como ler uma base de dados, vou mostrar como criar um Dataframe:"
   ]
  },
  {
   "cell_type": "code",
   "execution_count": null,
   "metadata": {},
   "outputs": [],
   "source": [
    "dados = pd.DataFrame({\"Id\": [1,2,3,4], \"var1\": [0,2,4,10]})\n",
    "dados"
   ]
  },
  {
   "cell_type": "markdown",
   "metadata": {},
   "source": [
    "Mas vamos aprender a mexer com o Pandas utilizando dados reais. Vamos começar aprendendo a ler uma base de dados em csv, essa base de dados contém estatísticas básicas de jogos da NFL:"
   ]
  },
  {
   "cell_type": "code",
   "execution_count": null,
   "metadata": {},
   "outputs": [],
   "source": [
    "dados = pd.read_csv(\"Basic_Stats.csv\")\n",
    "dados"
   ]
  },
  {
   "cell_type": "markdown",
   "metadata": {},
   "source": [
    "Para facilitar a visualização dos dados, como o no R, podemos olhar só para um pedaço da base:"
   ]
  },
  {
   "cell_type": "code",
   "execution_count": null,
   "metadata": {},
   "outputs": [],
   "source": [
    "dados.head() # 5 primeiros"
   ]
  },
  {
   "cell_type": "code",
   "execution_count": null,
   "metadata": {},
   "outputs": [],
   "source": [
    "dados.tail() # 5 últimos"
   ]
  },
  {
   "cell_type": "markdown",
   "metadata": {},
   "source": [
    "Se quisermos pegar linhas específicas:"
   ]
  },
  {
   "cell_type": "code",
   "execution_count": null,
   "metadata": {},
   "outputs": [],
   "source": [
    "dados[100:105]"
   ]
  },
  {
   "cell_type": "markdown",
   "metadata": {},
   "source": [
    "Descobrir quais são os nomes de todas colunas:"
   ]
  },
  {
   "cell_type": "code",
   "execution_count": null,
   "metadata": {},
   "outputs": [],
   "source": [
    "dados.columns"
   ]
  },
  {
   "cell_type": "markdown",
   "metadata": {},
   "source": [
    "Para acessar coluna específica:"
   ]
  },
  {
   "cell_type": "code",
   "execution_count": null,
   "metadata": {},
   "outputs": [],
   "source": [
    "dados[\"Age\"].head()"
   ]
  },
  {
   "cell_type": "code",
   "execution_count": null,
   "metadata": {},
   "outputs": [],
   "source": [
    "dados.Age.head()"
   ]
  },
  {
   "cell_type": "markdown",
   "metadata": {},
   "source": [
    "Melhor jeito de acessar todas essas informações:"
   ]
  },
  {
   "cell_type": "code",
   "execution_count": null,
   "metadata": {},
   "outputs": [],
   "source": [
    "dados.loc[10:15, [\"Age\",\"Birth Place\"]]"
   ]
  },
  {
   "cell_type": "markdown",
   "metadata": {},
   "source": [
    "Podemos agrupar as informações para começarmos a entender a base:"
   ]
  },
  {
   "cell_type": "code",
   "execution_count": null,
   "metadata": {},
   "outputs": [],
   "source": [
    "dados.groupby(\"Current Team\").mean()"
   ]
  },
  {
   "cell_type": "code",
   "execution_count": null,
   "metadata": {},
   "outputs": [],
   "source": [
    "dados.groupby(\"Current Status\")[\"Age\"].mean()"
   ]
  },
  {
   "cell_type": "markdown",
   "metadata": {},
   "source": [
    "Se quisermos adicionar essa informação na base?"
   ]
  },
  {
   "cell_type": "code",
   "execution_count": null,
   "metadata": {},
   "outputs": [],
   "source": [
    "age_status = dados.groupby(\"Current Status\")[\"Age\"].mean().rename(\"Age_Status\").reset_index()\n",
    "age_status"
   ]
  },
  {
   "cell_type": "markdown",
   "metadata": {},
   "source": [
    "Explicando o código:\n",
    "\n",
    "* **.rename(\"Age_Status\")**, estou renomeando o noem da coluna, para que não dê conflito na hora de juntar.\n",
    "* **.reset_index()**, para ele resetar o index da informação e ler como um dataframe"
   ]
  },
  {
   "cell_type": "code",
   "execution_count": null,
   "metadata": {},
   "outputs": [],
   "source": [
    "dados_age = dados.merge(age_status)\n",
    "dados_age.head()"
   ]
  },
  {
   "cell_type": "markdown",
   "metadata": {},
   "source": [
    "Como é feito para caso eu queira ter uma base só com os jogadores ativos?"
   ]
  },
  {
   "cell_type": "code",
   "execution_count": null,
   "metadata": {},
   "outputs": [],
   "source": [
    "dados_ativos = dados_age[dados_age[\"Current Status\"] == \"Active\"]\n",
    "dados_ativos"
   ]
  },
  {
   "cell_type": "code",
   "execution_count": null,
   "metadata": {},
   "outputs": [],
   "source": [
    "dados_ativos = dados_ativos.reset_index(drop = True)\n",
    "dados_ativos"
   ]
  },
  {
   "cell_type": "markdown",
   "metadata": {},
   "source": [
    "Também é possível adicionar uma nova informação na base da seguinte forma:"
   ]
  },
  {
   "cell_type": "code",
   "execution_count": null,
   "metadata": {},
   "outputs": [],
   "source": [
    "dados_ativos['Grupo Idade'] = pd.qcut(dados_ativos[\"Age\"], 3, ['Mais novos', \"Normais\", \"Mais velhos\"])\n",
    "dados_ativos.head()"
   ]
  },
  {
   "cell_type": "markdown",
   "metadata": {},
   "source": [
    "Explicando o código:\n",
    "\n",
    "* **pd.qcut** dividi os grupos pelos quantis de uma variável escolhida."
   ]
  },
  {
   "cell_type": "code",
   "execution_count": null,
   "metadata": {
    "collapsed": true
   },
   "outputs": [],
   "source": [
    "dados_ativos.to_csv(\"basic_stats_mod.csv\")"
   ]
  },
  {
   "cell_type": "markdown",
   "metadata": {},
   "source": [
    "### Matplotlib"
   ]
  },
  {
   "cell_type": "markdown",
   "metadata": {},
   "source": [
    "Esse é o pacote mais básico e mais \"feio\" de gráficos do python... que eu conheço."
   ]
  },
  {
   "cell_type": "code",
   "execution_count": null,
   "metadata": {
    "collapsed": true
   },
   "outputs": [],
   "source": [
    "plt.rcParams['figure.figsize'] = [12.0, 10.0] # Alterando tamanho em que o gráfico aparece no jupyter"
   ]
  },
  {
   "cell_type": "code",
   "execution_count": null,
   "metadata": {},
   "outputs": [],
   "source": [
    "plt.scatter(dados_ativos['Height (inches)'], dados_ativos['Weight (lbs)'])\n",
    "plt.title(\"Peso por altura dos jogadores ativos\")"
   ]
  },
  {
   "cell_type": "code",
   "execution_count": null,
   "metadata": {},
   "outputs": [],
   "source": [
    "plt.hist(dados_ativos['Height (inches)'])\n",
    "plt.title(\"Histograma da altura\")\n",
    "plt.xlabel(\"Altura\")\n",
    "plt.ylabel(\"Frequência\")"
   ]
  },
  {
   "cell_type": "code",
   "execution_count": null,
   "metadata": {},
   "outputs": [],
   "source": [
    "plt.boxplot(dados_ativos[\"Height (inches)\"])"
   ]
  },
  {
   "cell_type": "code",
   "execution_count": null,
   "metadata": {
    "scrolled": false
   },
   "outputs": [],
   "source": [
    "dados_ativos.boxplot(\"Age\", by=\"Current Team\")"
   ]
  },
  {
   "cell_type": "markdown",
   "metadata": {},
   "source": [
    "**Exercício** - Valendo uma palha\n",
    "\n",
    "Crie a variável meses ativos, que irá utilizar a coluna \"Year played\" e depois tem que ser adicionada a base de dados. Essa nova variável vai ter que conter a quantidade de meses que a pessoa  jogou, dado os anos que ela se diz ativa."
   ]
  },
  {
   "cell_type": "markdown",
   "metadata": {},
   "source": [
    "**Exercício** - Valendo duas palhas\n",
    "\n",
    "Abra a outra base \"Game_Logs_Quarterback.csv\" explore ela, descubra quem é o jogador mais bem sucedido, quem completou mais passes, se numericamente parece ter diferença entre jogar dentro e fora de casa (Não é necessário fazer teste de hipótese) e ver a distribuição de passes completos por distância de passes. \n"
   ]
  },
  {
   "cell_type": "markdown",
   "metadata": {},
   "source": [
    "# FIM"
   ]
  },
  {
   "cell_type": "markdown",
   "metadata": {
    "collapsed": true
   },
   "source": [
    "![Banana](http://cdn.osxdaily.com/wp-content/uploads/2013/07/dancing-banana.gif)\n"
   ]
  }
 ],
 "metadata": {
  "kernelspec": {
   "display_name": "Python 3",
   "language": "python",
   "name": "python3"
  },
  "language_info": {
   "codemirror_mode": {
    "name": "ipython",
    "version": 3
   },
   "file_extension": ".py",
   "mimetype": "text/x-python",
   "name": "python",
   "nbconvert_exporter": "python",
   "pygments_lexer": "ipython3",
   "version": "3.6.1"
  }
 },
 "nbformat": 4,
 "nbformat_minor": 2
}
